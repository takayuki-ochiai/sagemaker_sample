{
 "cells": [
  {
   "cell_type": "code",
   "execution_count": 6,
   "metadata": {},
   "outputs": [],
   "source": [
    "import random as rnd\n",
    "from numpy.random import * \n",
    "import pandas as pd"
   ]
  },
  {
   "cell_type": "code",
   "execution_count": 48,
   "metadata": {},
   "outputs": [],
   "source": [
    "# ベースになるCTRの準備\n",
    "ad_ctrs = {\n",
    "    1: 0.10,\n",
    "    2: 0.09,\n",
    "    3: 0.08,\n",
    "    4: 0.07,\n",
    "    5: 0.06,\n",
    "    6: 0.05,\n",
    "    7: 0.04,\n",
    "    8: 0.03,\n",
    "    9: 0.02,\n",
    "    10: 0.01,\n",
    "}\n",
    "\n",
    "adspot_ctrs = {\n",
    "    1: -0.05,\n",
    "    2: -0.04,\n",
    "    3: -0.03,\n",
    "    4: -0.02,\n",
    "    5: -0.01,\n",
    "    6: 0.00,\n",
    "    7: 0.01,\n",
    "    8: 0.02,\n",
    "    9: 0.03,\n",
    "    10: 0.04,\n",
    "}\n"
   ]
  },
  {
   "cell_type": "code",
   "execution_count": 49,
   "metadata": {},
   "outputs": [],
   "source": [
    "ad_ids = list(range(1, 11))\n",
    "adspot_ids = list(range(1, 11))"
   ]
  },
  {
   "cell_type": "markdown",
   "metadata": {},
   "source": [
    "## サンプルデータ生成"
   ]
  },
  {
   "cell_type": "code",
   "execution_count": 66,
   "metadata": {},
   "outputs": [],
   "source": [
    "def create_log():\n",
    "    ad_id = rnd.choice(ad_ids)\n",
    "    adspot_id = rnd.choice(adspot_ids)\n",
    "    ad_ctr = ad_ctrs[ad_id]\n",
    "    adspot_ctr = adspot_ctrs[adspot_id]      \n",
    "        \n",
    "    random = normal(0, 0.001)\n",
    "    real_ctr = (0.15 + ad_ctr + adspot_ctr + random) \n",
    "    \n",
    "    is_clicked = binomial(n=1, p=real_ctr)\n",
    "\n",
    "    return [ad_id, adspot_id, real_ctr, is_clicked]\n",
    "\n",
    "\n",
    "def create_logs(n=1000):\n",
    "    test_data = []\n",
    "    for i in list(range(0, n)):\n",
    "        tmp = create_log()\n",
    "        test_data.append(tmp)\n",
    "\n",
    "    return pd.DataFrame(test_data, columns=['ad_id', 'adspot_id', 'real_ctr', 'is_clicked'])"
   ]
  },
  {
   "cell_type": "code",
   "execution_count": 72,
   "metadata": {},
   "outputs": [],
   "source": [
    "train_data = create_logs(50000)"
   ]
  },
  {
   "cell_type": "code",
   "execution_count": 76,
   "metadata": {},
   "outputs": [],
   "source": [
    "train_data.to_csv('./train_data.csv')"
   ]
  },
  {
   "cell_type": "code",
   "execution_count": null,
   "metadata": {},
   "outputs": [],
   "source": []
  }
 ],
 "metadata": {
  "kernelspec": {
   "display_name": "Python 3",
   "language": "python",
   "name": "python3"
  },
  "language_info": {
   "codemirror_mode": {
    "name": "ipython",
    "version": 3
   },
   "file_extension": ".py",
   "mimetype": "text/x-python",
   "name": "python",
   "nbconvert_exporter": "python",
   "pygments_lexer": "ipython3",
   "version": "3.6.5"
  }
 },
 "nbformat": 4,
 "nbformat_minor": 2
}
